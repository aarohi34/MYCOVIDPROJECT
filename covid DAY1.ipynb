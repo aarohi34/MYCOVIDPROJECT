{
 "cells": [
  {
   "cell_type": "code",
   "execution_count": 5,
   "metadata": {},
   "outputs": [],
   "source": [
    "def covid_test():\n",
    "    if((INPUT1>60) & (INPUT2=='Y') & (INPUT3=='Y') &(INPUT4=='Y')):\n",
    "        print(\"you should go to a docter or call covid helpline\")\n",
    "    elif((INPUT1<60)&(INPUT5=='Y')& (INPUT6==\"Y\") & (INPUT7=='Y') & (INPUT11=='Y')):\n",
    "        print(\" you maybe at a risk of catching covid19 hence isolate yourself and quarantine for atleast 14 days\")\n",
    "    elif((INPUT1<60)&(INPUT8=='Y')& (INPUT9==\"Y\") & (INPUT10=='Y') &(INPUT11=='Y')):\n",
    "        print(\"you have less common symptoms but you should isolate yourself \")\n",
    "        print('next')\n",
    "       \n",
    "    "
   ]
  },
  {
   "cell_type": "code",
   "execution_count": null,
   "metadata": {},
   "outputs": [],
   "source": [
    "for i in range(1,3):\n",
    "    print('Pateint No.:{}'.format(i))\n",
    "    INPUT0=input('what is your name')\n",
    "    INPUT1=int(input('What is your Age?'))\n",
    "    INPUT2=input('do you feel chest pain or pressure ?(Y/N)')\n",
    "    INPUT3=input('do you feel shortness of breath or difficulty breathing?(Y/N)')\n",
    "    INPUT4=input('do you loss of speech or movement?(Y/N)')\n",
    "    INPUT5=input('do you have fever ?(Y/N)')\n",
    "    INPUT6=input('do you have dry cough ?(Y/N)')\n",
    "    INPUT7=input('do you feel very tired ?(Y/N)')\n",
    "    INPUT8=input('headache ?(Y/N)')\n",
    "    INPUT9=input('diarrea (Y/N)')\n",
    "    INPUT10=input('conjuctivites ?(Y/N)')\n",
    "    INPUT11=input('have you recently to covid affected country or area ?(Y/N)')\n",
    "    covid_test()\n",
    "\n",
    "                 \n",
    "    "
   ]
  },
  {
   "cell_type": "code",
   "execution_count": null,
   "metadata": {},
   "outputs": [],
   "source": []
  },
  {
   "cell_type": "code",
   "execution_count": null,
   "metadata": {},
   "outputs": [],
   "source": []
  }
 ],
 "metadata": {
  "kernelspec": {
   "display_name": "Python 3",
   "language": "python",
   "name": "python3"
  },
  "language_info": {
   "codemirror_mode": {
    "name": "ipython",
    "version": 3
   },
   "file_extension": ".py",
   "mimetype": "text/x-python",
   "name": "python",
   "nbconvert_exporter": "python",
   "pygments_lexer": "ipython3",
   "version": "3.7.6"
  }
 },
 "nbformat": 4,
 "nbformat_minor": 4
}
